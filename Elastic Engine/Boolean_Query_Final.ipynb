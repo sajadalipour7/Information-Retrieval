{
  "cells": [
    {
      "cell_type": "markdown",
      "metadata": {
        "id": "-MYmYmnT6vWM"
      },
      "source": [
        "# Boolean Query\n",
        "\n",
        "In this notebook, we will implement a Boolean information retrieval model by Elasticsearch.  \n",
        "We have these steps: <br>\n",
        "\n",
        "**1- Connect to the Elasticsearch Cluster and Create an Index <br>\n",
        "2- Indexing Documents <br>\n",
        "3- Boolean Retrieval (Fill where ever it says #TODO in this part)** <br>\n",
        "\n",
        "Let me know if you have any problems with this notebook or implementation. <br>\n",
        "**Telegram**: [@Mohammad_Ardestani4](https://t.me/Mohammad_Ardestani4) <br>\n",
        "**Email**: mjavad.ardestani00@gmial.com"
      ]
    },
    {
      "cell_type": "code",
      "source": [
        "from google.colab import drive\n",
        "drive.mount('/content/drive')"
      ],
      "metadata": {
        "colab": {
          "base_uri": "https://localhost:8080/"
        },
        "id": "mzSN6rC_wwaT",
        "outputId": "8e2c6135-ffbe-48cd-a386-1daae9ee6f3e"
      },
      "execution_count": null,
      "outputs": [
        {
          "output_type": "stream",
          "name": "stdout",
          "text": [
            "Mounted at /content/drive\n"
          ]
        }
      ]
    },
    {
      "cell_type": "code",
      "execution_count": null,
      "metadata": {
        "id": "e1Ld-wPi9eXy",
        "colab": {
          "base_uri": "https://localhost:8080/"
        },
        "outputId": "ff44597b-5ee8-44cd-9879-b64de571f3e2"
      },
      "outputs": [
        {
          "output_type": "stream",
          "name": "stdout",
          "text": [
            "Looking in indexes: https://pypi.org/simple, https://us-python.pkg.dev/colab-wheels/public/simple/\n",
            "Collecting elasticsearch\n",
            "  Downloading elasticsearch-8.3.0-py3-none-any.whl (381 kB)\n",
            "\u001b[K     |████████████████████████████████| 381 kB 5.1 MB/s \n",
            "\u001b[?25hCollecting elastic-transport<9,>=8\n",
            "  Downloading elastic_transport-8.1.2-py3-none-any.whl (59 kB)\n",
            "\u001b[K     |████████████████████████████████| 59 kB 5.6 MB/s \n",
            "\u001b[?25hCollecting urllib3<2,>=1.26.2\n",
            "  Downloading urllib3-1.26.9-py2.py3-none-any.whl (138 kB)\n",
            "\u001b[K     |████████████████████████████████| 138 kB 44.9 MB/s \n",
            "\u001b[?25hRequirement already satisfied: certifi in /usr/local/lib/python3.7/dist-packages (from elastic-transport<9,>=8->elasticsearch) (2022.6.15)\n",
            "Installing collected packages: urllib3, elastic-transport, elasticsearch\n",
            "  Attempting uninstall: urllib3\n",
            "    Found existing installation: urllib3 1.24.3\n",
            "    Uninstalling urllib3-1.24.3:\n",
            "      Successfully uninstalled urllib3-1.24.3\n",
            "\u001b[31mERROR: pip's dependency resolver does not currently take into account all the packages that are installed. This behaviour is the source of the following dependency conflicts.\n",
            "requests 2.23.0 requires urllib3!=1.25.0,!=1.25.1,<1.26,>=1.21.1, but you have urllib3 1.26.9 which is incompatible.\n",
            "datascience 0.10.6 requires folium==0.2.1, but you have folium 0.8.3 which is incompatible.\u001b[0m\n",
            "Successfully installed elastic-transport-8.1.2 elasticsearch-8.3.0 urllib3-1.26.9\n"
          ]
        }
      ],
      "source": [
        "!pip install elasticsearch"
      ]
    },
    {
      "cell_type": "code",
      "execution_count": null,
      "metadata": {
        "colab": {
          "base_uri": "https://localhost:8080/"
        },
        "id": "zz8PVXZwOTKg",
        "outputId": "171ccfe2-e0ec-4ae8-ab7c-7f641577de1a"
      },
      "outputs": [
        {
          "output_type": "stream",
          "name": "stderr",
          "text": [
            "/usr/local/lib/python3.7/dist-packages/requests/__init__.py:91: RequestsDependencyWarning: urllib3 (1.26.9) or chardet (3.0.4) doesn't match a supported version!\n",
            "  RequestsDependencyWarning)\n"
          ]
        }
      ],
      "source": [
        "from elasticsearch import Elasticsearch, helpers\n",
        "import os, json, time\n",
        "from datetime import datetime\n",
        "from tqdm import tqdm "
      ]
    },
    {
      "cell_type": "markdown",
      "metadata": {
        "id": "8VrkfiwK68K7"
      },
      "source": [
        "## Ignore The Security Warnings\n",
        "Here we ignore the security warnings. It's suggested that you don't run below cell until you ensure that all warnings are about security. \n"
      ]
    },
    {
      "cell_type": "code",
      "execution_count": null,
      "metadata": {
        "id": "BsAE99xuOTKj"
      },
      "outputs": [],
      "source": [
        "import warnings\n",
        "warnings.filterwarnings('ignore')"
      ]
    },
    {
      "cell_type": "markdown",
      "metadata": {
        "id": "zwRjta2P85gJ"
      },
      "source": [
        "## Load Processed Data"
      ]
    },
    {
      "cell_type": "code",
      "execution_count": null,
      "metadata": {
        "colab": {
          "base_uri": "https://localhost:8080/"
        },
        "id": "SZ38UddzOTKm",
        "outputId": "49f840b2-6dcc-4335-95c4-f8923d20526c"
      },
      "outputs": [
        {
          "output_type": "stream",
          "name": "stdout",
          "text": [
            "dict_keys(['title', 'content', 'tags', 'date', 'url', 'category'])\n"
          ]
        }
      ],
      "source": [
        "import json\n",
        "dataset_path = '/content/drive/MyDrive/IR_data_news_12k.json'\n",
        "with open(dataset_path) as f:\n",
        "    data = json.load(f)\n",
        "print(data['0'].keys())"
      ]
    },
    {
      "cell_type": "markdown",
      "metadata": {
        "id": "34HO2cmPOTKo"
      },
      "source": [
        "## Connect to the Elasticsearch Cluster and Create an Index\n",
        "After starting your Elasticsearch on your pc (localhost:9200 is the default), we have to connect to it via the following piece of code.\n"
      ]
    },
    {
      "cell_type": "code",
      "execution_count": null,
      "metadata": {
        "colab": {
          "base_uri": "https://localhost:8080/"
        },
        "id": "jKxaAaTYOTKq",
        "outputId": "bb39cd81-718f-451a-a6ad-82d47f07d18d"
      },
      "outputs": [
        {
          "output_type": "execute_result",
          "data": {
            "text/plain": [
              "ObjectApiResponse({'acknowledged': True, 'shards_acknowledged': True, 'index': 'my_index_name_5'})"
            ]
          },
          "metadata": {},
          "execution_count": 7
        }
      ],
      "source": [
        "index_name = 'my_index_name_5'\n",
        "es = Elasticsearch(\n",
        "    cloud_id=\"IR:dXMtY2VudHJhbDEuZ2NwLmNsb3VkLmVzLmlvOjQ0MyQ2NTdiMmI1MzE3YTc0OWNjYWQ0YTU1ZDM4ZGUyOGI0NiQzYTU2YWFlYzQ1NzI0YjkxOTZlN2YwOWExNDU3ODk2MQ==\",\n",
        "    basic_auth=(\"elastic\", \"TOseKiFNqilMmEBgf1i0Dv92\")\n",
        "    )\n",
        "es.indices.create(index = index_name)"
      ]
    },
    {
      "cell_type": "markdown",
      "metadata": {
        "id": "D-GpyLkjwmZt"
      },
      "source": [
        "### Check the Cluster Status"
      ]
    },
    {
      "cell_type": "code",
      "execution_count": null,
      "metadata": {
        "id": "wzH4AbnGOTKs",
        "colab": {
          "base_uri": "https://localhost:8080/"
        },
        "outputId": "e0ee1ba7-4b22-4654-db28-a35d766d3d33"
      },
      "outputs": [
        {
          "output_type": "execute_result",
          "data": {
            "text/plain": [
              "{'cluster_name': '657b2b5317a749ccad4a55d38de28b46',\n",
              " 'cluster_uuid': 'mHBMeoKsSQ2Ake6WZ8h56w',\n",
              " 'name': 'instance-0000000000',\n",
              " 'tagline': 'You Know, for Search',\n",
              " 'version': {'build_date': '2022-06-23T22:48:49.607492124Z',\n",
              "  'build_hash': '5b8b981647acdf1ba1d88751646b49d1b461b4cc',\n",
              "  'build_snapshot': False,\n",
              "  'build_type': 'docker',\n",
              "  'lucene_version': '9.2.0',\n",
              "  'minimum_index_compatibility_version': '7.0.0',\n",
              "  'minimum_wire_compatibility_version': '7.17.0',\n",
              "  'number': '8.3.0'}}"
            ]
          },
          "metadata": {},
          "execution_count": 8
        }
      ],
      "source": [
        "dict(es.info())"
      ]
    },
    {
      "cell_type": "markdown",
      "metadata": {
        "id": "MLPGMoenwmZu"
      },
      "source": [
        "## Indexing Documents "
      ]
    },
    {
      "cell_type": "markdown",
      "metadata": {
        "id": "0Z2i0tJoOTKv"
      },
      "source": [
        "we can add our documents to created index in two ways:<br>\n",
        "1- one by one in for loop. <br>\n",
        "2- use [Bulk API](https://www.elastic.co/guide/en/elasticsearch/reference/current/docs-bulk.html#:~:text=Bulk%20APIedit,can%20greatly%20increase%20indexing%20speed.), which performs multiple indexing or delete operations in a single API call. This reduces overhead and can significantly increase indexing speed."
      ]
    },
    {
      "cell_type": "markdown",
      "metadata": {
        "id": "ibRuMxh8OTKx"
      },
      "source": [
        "###  for loop by es.index \n",
        "**You dont have to run this cell**. "
      ]
    },
    {
      "cell_type": "code",
      "execution_count": null,
      "metadata": {
        "id": "E81WiFk2OTKz",
        "scrolled": false,
        "colab": {
          "base_uri": "https://localhost:8080/"
        },
        "outputId": "6c6e540c-230c-4674-8074-3dfc213adb8e"
      },
      "outputs": [
        {
          "output_type": "stream",
          "name": "stderr",
          "text": [
            "100%|██████████| 12202/12202 [06:37<00:00, 30.68it/s]\n"
          ]
        }
      ],
      "source": [
        "for i in tqdm(range(len(data))):\n",
        "    es.index(index = index_name, id=i, document=data[str(i)])\n",
        "    i = i + 1"
      ]
    },
    {
      "cell_type": "markdown",
      "metadata": {
        "id": "hiv35Uj3OTK2"
      },
      "source": [
        "###  Bulk API"
      ]
    },
    {
      "cell_type": "code",
      "execution_count": null,
      "metadata": {
        "id": "qt1XZ-BaOTK4"
      },
      "outputs": [],
      "source": [
        "from elasticsearch.helpers import bulk\n",
        "\n",
        "def bulk_sync():\n",
        "    actions = [\n",
        "        {\n",
        "            '_index': index_name,\n",
        "            '_id':doc_id,\n",
        "            '_source': doc\n",
        "        } for doc_id,doc in data.items()\n",
        "    ]\n",
        "    bulk(es, actions)\n"
      ]
    },
    {
      "cell_type": "code",
      "execution_count": null,
      "metadata": {
        "id": "QUuoIuvlOTK5"
      },
      "outputs": [],
      "source": [
        "start = time.time()\n",
        "bulk_sync()\n",
        "end = time.time()\n",
        "print(\"Indexing all documents took about {:.2f} seconds\".format(end - start))"
      ]
    },
    {
      "cell_type": "markdown",
      "metadata": {
        "id": "mHIPOwW1OTK7"
      },
      "source": [
        "### check index"
      ]
    },
    {
      "cell_type": "code",
      "execution_count": null,
      "metadata": {
        "id": "hg8OYRf_OTK8",
        "outputId": "9d8ca205-4008-4b84-8489-762f66467655",
        "colab": {
          "base_uri": "https://localhost:8080/"
        }
      },
      "outputs": [
        {
          "output_type": "execute_result",
          "data": {
            "text/plain": [
              "ObjectApiResponse({'count': 0, '_shards': {'total': 1, 'successful': 1, 'skipped': 0, 'failed': 0}})"
            ]
          },
          "metadata": {},
          "execution_count": 11
        }
      ],
      "source": [
        "es.count(index = index_name)"
      ]
    },
    {
      "cell_type": "markdown",
      "metadata": {
        "id": "9PDnW1SnOTK-"
      },
      "source": [
        "## Boolean Retrieval "
      ]
    },
    {
      "cell_type": "markdown",
      "metadata": {
        "id": "mTtzPkLCOTK-"
      },
      "source": [
        "### Bool Query Structure\n",
        "\n",
        "It is built using one or more boolean clauses, each clause with a typed occurrence. The occurrence types are:\n",
        "\n",
        "**must**: The clause (query) must appear in matching documents and will contribute to the score.\n",
        "<br><br>\n",
        "**filter**: The clause (query) must appear in matching documents. However unlike must the score of the query will be ignored. Filter clauses are executed in filter context, meaning that scoring is ignored and clauses are considered for caching.\n",
        "<br><br>\n",
        "**should**: The clause (query) should appear in the matching document.\n",
        "<br><br>\n",
        "**must_not**: The clause (query) must not appear in the matching documents. Clauses are executed in filter context meaning that scoring is ignored and clauses are considered for caching. Because scoring is ignored, a score of 0 for all documents is returned.\n",
        "\n",
        "For further information, you can read this [Document](https://www.elastic.co/guide/en/elasticsearch/reference/current/query-dsl-bool-query.html). \n",
        "\n",
        "###  <span style=\"color:red\"> TODO </span>\n",
        "You should read about [match query](https://www.elastic.co/guide/en/elasticsearch/reference/current/query-dsl-match-query.html#match-top-level-params) and [match phrase query](https://www.elastic.co/guide/en/elasticsearch/reference/current/query-dsl-match-query-phrase.html) then complete the below cell."
      ]
    },
    {
      "cell_type": "code",
      "execution_count": null,
      "metadata": {
        "id": "G6XYVxrjOTK_"
      },
      "outputs": [],
      "source": [
        "query= {\n",
        "        \"bool\": {\n",
        "          \"should\": [\n",
        "              { \n",
        "                  #TODO: add a match query structure ==> use for normal words\n",
        "                  \"match\":{\n",
        "                      \"content\":\"آمریکا\"\n",
        "                  }\n",
        "              }, \n",
        "              \n",
        "              { \n",
        "                  #TODO: add a match pharse query strucutre ==> use for words in <\"\">\n",
        "                  \"match_phrase\":{\n",
        "                      \"content\":\"تحریم هسته‌ای\"\n",
        "                  }\n",
        "              },\n",
        "   \n",
        "          ],\n",
        "          \"must_not\": [\n",
        "              {\n",
        "                  #TODO: add a match or match pharse query structure ==> use for words after <!>\n",
        "                  \"match\":{\n",
        "                      \"content\":\"ایران\"\n",
        "                  }\n",
        "              }\n",
        "          ],\n",
        "        },\n",
        "    }"
      ]
    },
    {
      "cell_type": "markdown",
      "metadata": {
        "id": "GqR7SLBVOTLC"
      },
      "source": [
        "### Search query\n",
        "\n",
        "The _source field contains the original JSON document body that was passed at index time. The _source field itself is not indexed (and thus is not searchable), but it is stored so that it can be returned when executing fetch requests, like get or search.\n",
        "\n",
        "For further information, you can read this [Document](https://www.elastic.co/guide/en/elasticsearch/reference/current/search-search.html#search-api-response-body)."
      ]
    },
    {
      "cell_type": "code",
      "execution_count": null,
      "metadata": {
        "id": "SSrpYB5JOTLC"
      },
      "outputs": [],
      "source": [
        "res = es.search(index = index_name, query=query, _source= [\"url\"])\n",
        "res = dict(res)"
      ]
    },
    {
      "cell_type": "markdown",
      "metadata": {
        "id": "nkHMGaXfOTLD"
      },
      "source": [
        "### Results"
      ]
    },
    {
      "cell_type": "code",
      "execution_count": null,
      "metadata": {
        "id": "g3sPDdpROTLE",
        "outputId": "83066d05-bfb6-4b06-fa6f-75339eb9c62e",
        "scrolled": true,
        "colab": {
          "base_uri": "https://localhost:8080/"
        }
      },
      "outputs": [
        {
          "output_type": "stream",
          "name": "stdout",
          "text": [
            "0 results in 0.001 s: \n"
          ]
        }
      ],
      "source": [
        "print(\"{} results in {} s: \".format(res['hits']['total']['value'] ,res['took']/1000))\n",
        "for doc in res['hits']['hits']:\n",
        "    print(doc['_source']['url'])"
      ]
    },
    {
      "cell_type": "code",
      "source": [
        ""
      ],
      "metadata": {
        "id": "-PjzWCqYyZCp"
      },
      "execution_count": null,
      "outputs": []
    }
  ],
  "metadata": {
    "colab": {
      "name": "Boolean Query-Final.ipynb",
      "provenance": [],
      "collapsed_sections": []
    },
    "kernelspec": {
      "display_name": "Python 3 (ipykernel)",
      "language": "python",
      "name": "python3"
    },
    "language_info": {
      "codemirror_mode": {
        "name": "ipython",
        "version": 3
      },
      "file_extension": ".py",
      "mimetype": "text/x-python",
      "name": "python",
      "nbconvert_exporter": "python",
      "pygments_lexer": "ipython3",
      "version": "3.8.5"
    }
  },
  "nbformat": 4,
  "nbformat_minor": 0
}