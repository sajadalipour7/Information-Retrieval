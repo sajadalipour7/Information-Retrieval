{
  "cells": [
    {
      "cell_type": "markdown",
      "metadata": {
        "id": "zkzGHTYTRJ6J"
      },
      "source": [
        "# توجه \n",
        "\n",
        "1. به راهنمایی هایی که در کد آمده است توجه کنید\n",
        "2. مواردی که به صورت \"#TODO\"\n",
        "را باید بصورتی که در صورت پروژه تعریف شده است انجام دهید. "
      ]
    },
    {
      "cell_type": "code",
      "source": [
        "from google.colab import drive\n",
        "drive.mount('/content/drive')"
      ],
      "metadata": {
        "colab": {
          "base_uri": "https://localhost:8080/"
        },
        "id": "iQps_DPvjHay",
        "outputId": "7ed412c5-caaf-46a9-85ea-b3f9d6568abf"
      },
      "execution_count": 1,
      "outputs": [
        {
          "output_type": "stream",
          "name": "stdout",
          "text": [
            "Drive already mounted at /content/drive; to attempt to forcibly remount, call drive.mount(\"/content/drive\", force_remount=True).\n"
          ]
        }
      ]
    },
    {
      "cell_type": "code",
      "execution_count": 2,
      "metadata": {
        "colab": {
          "base_uri": "https://localhost:8080/"
        },
        "id": "JbfeAvxXYMd2",
        "outputId": "a672e981-c1b1-41a9-f948-9f82048df533"
      },
      "outputs": [
        {
          "output_type": "stream",
          "name": "stdout",
          "text": [
            "Looking in indexes: https://pypi.org/simple, https://us-python.pkg.dev/colab-wheels/public/simple/\n",
            "Requirement already satisfied: hazm in /usr/local/lib/python3.7/dist-packages (0.7.0)\n",
            "Requirement already satisfied: nltk==3.3 in /usr/local/lib/python3.7/dist-packages (from hazm) (3.3)\n",
            "Requirement already satisfied: libwapiti>=0.2.1 in /usr/local/lib/python3.7/dist-packages (from hazm) (0.2.1)\n",
            "Requirement already satisfied: six in /usr/local/lib/python3.7/dist-packages (from nltk==3.3->hazm) (1.15.0)\n",
            "Looking in indexes: https://pypi.org/simple, https://us-python.pkg.dev/colab-wheels/public/simple/\n",
            "Requirement already satisfied: gensim==4.1.2 in /usr/local/lib/python3.7/dist-packages (4.1.2)\n",
            "Requirement already satisfied: smart-open>=1.8.1 in /usr/local/lib/python3.7/dist-packages (from gensim==4.1.2) (5.2.1)\n",
            "Requirement already satisfied: numpy>=1.17.0 in /usr/local/lib/python3.7/dist-packages (from gensim==4.1.2) (1.21.6)\n",
            "Requirement already satisfied: scipy>=0.18.1 in /usr/local/lib/python3.7/dist-packages (from gensim==4.1.2) (1.4.1)\n",
            "Looking in indexes: https://pypi.org/simple, https://us-python.pkg.dev/colab-wheels/public/simple/\n",
            "Requirement already satisfied: words in /usr/local/lib/python3.7/dist-packages (0.0.1)\n",
            "Looking in indexes: https://pypi.org/simple, https://us-python.pkg.dev/colab-wheels/public/simple/\n",
            "Requirement already satisfied: elasticsearch in /usr/local/lib/python3.7/dist-packages (8.3.1)\n",
            "Requirement already satisfied: elastic-transport<9,>=8 in /usr/local/lib/python3.7/dist-packages (from elasticsearch) (8.1.2)\n",
            "Requirement already satisfied: certifi in /usr/local/lib/python3.7/dist-packages (from elastic-transport<9,>=8->elasticsearch) (2022.6.15)\n",
            "Requirement already satisfied: urllib3<2,>=1.26.2 in /usr/local/lib/python3.7/dist-packages (from elastic-transport<9,>=8->elasticsearch) (1.26.9)\n"
          ]
        }
      ],
      "source": [
        "! pip install hazm\n",
        "! pip install gensim==4.1.2\n",
        "!pip install words\n",
        "!pip install elasticsearch"
      ]
    },
    {
      "cell_type": "code",
      "execution_count": 3,
      "metadata": {
        "id": "FRQkBOypdLoz",
        "colab": {
          "base_uri": "https://localhost:8080/"
        },
        "outputId": "4368ccd7-fa1d-4474-eeef-e41f7766b49f"
      },
      "outputs": [
        {
          "output_type": "stream",
          "name": "stderr",
          "text": [
            "/usr/local/lib/python3.7/dist-packages/requests/__init__.py:91: RequestsDependencyWarning: urllib3 (1.26.9) or chardet (3.0.4) doesn't match a supported version!\n",
            "  RequestsDependencyWarning)\n"
          ]
        }
      ],
      "source": [
        "from elasticsearch import Elasticsearch\n",
        "from elasticsearch import helpers\n",
        "import json\n",
        "from tqdm import tqdm\n",
        "from gensim.models import Word2Vec\n",
        "import numpy as np\n",
        "import random\n",
        "import pandas as pd\n",
        "# import whatever you need for your implementation  "
      ]
    },
    {
      "cell_type": "markdown",
      "metadata": {
        "id": "0sORz9JPfjKM"
      },
      "source": [
        "# step 1 \n",
        "داده هایی که در اختیار دارید را بارگذاری کنید و مشابه بخش های قبل پیش پردازش های لازم را انجام دهید. \n",
        "مطابق فازهای و بخش های پیشین پروژه مراحل پیش پردازش را انجام دهید. در نهایت لیست از اسناد بسازید که برای هر متن شامل توکن های آن متن باشد. \n",
        "این لیست میتواند ساختاری مطابق تصویر زیر داشته باشد.\n",
        "![image.png](data:image/png;base64,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)"
      ]
    },
    {
      "cell_type": "code",
      "source": [
        "data_to_train_doc_to_vec = pd.read_excel(\"/content/drive/MyDrive/IR01_3_46k.xlsx\")"
      ],
      "metadata": {
        "id": "xBIE_1Cjjqh5"
      },
      "execution_count": 4,
      "outputs": []
    },
    {
      "cell_type": "code",
      "source": [
        "from __future__ import unicode_literals\n",
        "from hazm import *"
      ],
      "metadata": {
        "id": "Qp0TfYKtj08G"
      },
      "execution_count": 5,
      "outputs": []
    },
    {
      "cell_type": "code",
      "source": [
        "my_normalizer=Normalizer()\n",
        "dataset_for_doc_to_vec=[]\n",
        "\n",
        "for i in range(len(data_to_train_doc_to_vec)):\n",
        "  content_array=word_tokenize(my_normalizer.normalize(data_to_train_doc_to_vec.content[i]))\n",
        "  dataset_for_doc_to_vec.append(content_array)\n"
      ],
      "metadata": {
        "id": "MvS3qXnhkGt9"
      },
      "execution_count": 6,
      "outputs": []
    },
    {
      "cell_type": "markdown",
      "metadata": {
        "id": "6CQviFFxoufg"
      },
      "source": [
        "# گام دوم \n",
        "در این گام شما باید بتوانید که هر سند را به یک بردار عددی تبدیل کنید. این کار را به کمک ماژول آماده ایی که در اختیار شما قرار گرفته است انجام می شود.\n",
        "بدین منظور مراحل زیر را انجام دهید. \n",
        "\n",
        "\n",
        "\n",
        "\n",
        "\n",
        "\n",
        "\n",
        "\n"
      ]
    },
    {
      "cell_type": "markdown",
      "metadata": {
        "id": "OkpRP6M7QSV9"
      },
      "source": [
        "دو بلوک بعدی کد برای استفاده از ماژول آماده تهیه شده و صرفا به شکل مثال نوشته شده اند، ممکن است برای استفاده عملی در پروژه نیاز به تغییر باشد. "
      ]
    },
    {
      "cell_type": "code",
      "source": [
        "from typing import List\n",
        "from gensim.models import Word2Vec\n",
        "from sklearn.feature_extraction.text import TfidfVectorizer\n",
        "import numpy as np\n",
        "from pathlib import Path\n",
        "\n",
        "\n",
        "\n",
        "class DocToVec:\n",
        "    \n",
        "    def __init__(self, dataset:List[List] , vec_size = 200 , model_path = 'word2vec.model'):\n",
        "        \"\"\" Here we train our model and calculate tf-idf weights.\n",
        "\n",
        "        Args:\n",
        "            dataset (List[List]): Each item of this list is a list of tokens obtained from a document.\n",
        "            vec_size (int, optional): The size of the vector of each document. Defaults to 200.\n",
        "            model_path (str, optional): The path of pre-trained model. If there is no file in the specified \n",
        "            path, It trains a model with the dataset and saves the trained model. Defaults to 'word2vec.model'.\n",
        "        \"\"\"\n",
        "\n",
        "        self.vec_size = vec_size\n",
        "        \n",
        "        \n",
        "        \n",
        "        if not Path(model_path).is_file():\n",
        "            print('There is no pre-trained model. Going to train a model ...')\n",
        "            self.wordToVecModel = Word2Vec(\n",
        "                window = 10,\n",
        "                min_count=2,\n",
        "                workers=4,\n",
        "                vector_size = self.vec_size\n",
        "            )\n",
        "        \n",
        "            self.wordToVecModel.build_vocab(dataset)\n",
        "            \n",
        "            self.wordToVecModel.train(\n",
        "                dataset,\n",
        "                total_examples = self.wordToVecModel.corpus_count,\n",
        "                epochs = 20,\n",
        "            )\n",
        "            \n",
        "            self.wordToVecModel.save(model_path)\n",
        "            \n",
        "        else:\n",
        "            \n",
        "            print('Loading the model ...')\n",
        "            self.wordToVecModel = Word2Vec.load(model_path)\n",
        "        \n",
        "        con_train_data = [\" \".join(a) for a in dataset]\n",
        "        \n",
        "        self.tfIdfVectorizer=TfidfVectorizer(use_idf=True,\n",
        "                                        dtype = np.float64,\n",
        "                                        lowercase = False,\n",
        "                                        vocabulary = self.wordToVecModel.wv.index_to_key)\n",
        "        \n",
        "        self.tfIdfVectorizer.fit(con_train_data)\n",
        "        \n",
        "        dictionary = self.tfIdfVectorizer.get_feature_names()\n",
        "        self.dictToNum = {d:i for i,d in enumerate(dictionary)}\n",
        "        \n",
        "        \n",
        "    def embed(self, tokens:List):\n",
        "        \"\"\"Maps the input to a vector\n",
        "\n",
        "        Args:\n",
        "            tokens (List): List of tokens (don't forget to do preprocessing before \n",
        "            extracting tokens)\n",
        "\n",
        "        Returns:\n",
        "            Numpy Array: The vector of document\n",
        "        \"\"\"\n",
        "        \n",
        "        ti = self.tfIdfVectorizer.transform([\" \".join(tokens)])\n",
        "        \n",
        "        weights = np.squeeze(np.asarray(ti[0].T.todense()))\n",
        "        \n",
        "        vec = np.zeros((self.vec_size,))\n",
        "        sum_weights = 0\n",
        "        for k in set(tokens):\n",
        "            try:\n",
        "                word_vec = self.wordToVecModel.wv[k]\n",
        "                weight = weights[self.dictToNum[k]]\n",
        "                vec += word_vec * weight\n",
        "                sum_weights += weight\n",
        "            except KeyError:\n",
        "                pass\n",
        "        vec /= sum_weights\n",
        "        return vec\n",
        "        \n"
      ],
      "metadata": {
        "id": "miB1SwRjlCcD"
      },
      "execution_count": 7,
      "outputs": []
    },
    {
      "cell_type": "code",
      "execution_count": 8,
      "metadata": {
        "id": "puyzaaxQgBPg",
        "colab": {
          "base_uri": "https://localhost:8080/"
        },
        "outputId": "fa1c9ced-0171-41b5-e2a4-688de6bf64f1"
      },
      "outputs": [
        {
          "output_type": "stream",
          "name": "stdout",
          "text": [
            "Loading the model ...\n"
          ]
        },
        {
          "output_type": "stream",
          "name": "stderr",
          "text": [
            "/usr/local/lib/python3.7/dist-packages/sklearn/utils/deprecation.py:87: FutureWarning: Function get_feature_names is deprecated; get_feature_names is deprecated in 1.0 and will be removed in 1.2. Please use get_feature_names_out instead.\n",
            "  warnings.warn(msg, category=FutureWarning)\n"
          ]
        }
      ],
      "source": [
        "#from embedding import * \n",
        "# dataset: each document is a list of its tokens. \n",
        "# model_path: is a path that you want save model in it. \n",
        "doc2vec = DocToVec (dataset_for_doc_to_vec , vec_size = 200 , model_path = 'word2vec2.model')\n"
      ]
    },
    {
      "cell_type": "markdown",
      "metadata": {
        "id": "oQN8SuyIQFX6"
      },
      "source": [
        "\n",
        "تولید بردارهای تمام اسناد و ذخیره در یک لیست بمنظور استفاده در گام های بعدی "
      ]
    },
    {
      "cell_type": "code",
      "execution_count": null,
      "metadata": {
        "id": "LXkx9nqho_4g"
      },
      "outputs": [],
      "source": [
        "%%time\n",
        "doc_vectors = []\n",
        "for i in tqdm(range(len(docs_list))):\n",
        "  doc_vectors.append(doc2vec.embed(dataset[i])) "
      ]
    },
    {
      "cell_type": "markdown",
      "metadata": {
        "id": "kC2c-BncQ6f_"
      },
      "source": [
        "# ابتدا بردارهای عددی داده های تست را بدست آورده و سپس از این بردارها برای تولید بردار  بقیه ی داده ها استفاده کنید. "
      ]
    },
    {
      "cell_type": "code",
      "execution_count": 9,
      "metadata": {
        "id": "WXjF6F5LdLpP"
      },
      "outputs": [],
      "source": [
        "mapping = { \n",
        "    \"mappings\": {\n",
        "        \"properties\": {\n",
        "          \"content\": {\n",
        "            \"type\": \"text\"\n",
        "          },\n",
        "            \"category\":{\n",
        "                \"type\": \"keyword\"\n",
        "            },\n",
        "            \"vec\":{\n",
        "                \"type\": \"dense_vector\",\n",
        "                \"dims\": 200,\n",
        "                \"index\": True,\n",
        "                \"similarity\": \"cosine\"\n",
        "            }\n",
        "        }\n",
        "    }\n",
        "}"
      ]
    },
    {
      "cell_type": "code",
      "execution_count": 10,
      "metadata": {
        "id": "LlomFmlqdLpQ"
      },
      "outputs": [],
      "source": [
        "es = Elasticsearch(\n",
        "    cloud_id=\"IR:dXMtY2VudHJhbDEuZ2NwLmNsb3VkLmVzLmlvOjQ0MyQ2NTdiMmI1MzE3YTc0OWNjYWQ0YTU1ZDM4ZGUyOGI0NiQzYTU2YWFlYzQ1NzI0YjkxOTZlN2YwOWExNDU3ODk2MQ==\",\n",
        "    basic_auth=(\"elastic\", \"TOseKiFNqilMmEBgf1i0Dv92\")\n",
        "    )"
      ]
    },
    {
      "cell_type": "code",
      "execution_count": 11,
      "metadata": {
        "id": "Svhk9olodLpR"
      },
      "outputs": [],
      "source": [
        "index_name = 'ir_knn'"
      ]
    },
    {
      "cell_type": "code",
      "execution_count": 12,
      "metadata": {
        "id": "8oAzzl94dLpS",
        "colab": {
          "base_uri": "https://localhost:8080/"
        },
        "outputId": "2950405f-0d85-4b85-b6d3-dbed981dd3ba"
      },
      "outputs": [
        {
          "output_type": "stream",
          "name": "stderr",
          "text": [
            "/usr/local/lib/python3.7/dist-packages/ipykernel_launcher.py:6: DeprecationWarning: The 'body' parameter is deprecated and will be removed in a future version. Instead use individual parameters.\n",
            "  \n"
          ]
        },
        {
          "output_type": "execute_result",
          "data": {
            "text/plain": [
              "ObjectApiResponse({'acknowledged': True, 'shards_acknowledged': True, 'index': 'ir_knn'})"
            ]
          },
          "metadata": {},
          "execution_count": 12
        }
      ],
      "source": [
        "# Delete index if one does exist\n",
        "if es.indices.exists(index=index_name):\n",
        "    es.indices.delete(index=index_name)\n",
        "\n",
        "# Create index\n",
        "es.indices.create(index=index_name, body=mapping)"
      ]
    },
    {
      "cell_type": "code",
      "execution_count": 13,
      "metadata": {
        "id": "1-2Yrca7dLpT"
      },
      "outputs": [],
      "source": [
        "data = pd.read_excel(\"/content/drive/MyDrive/IR01_3_test_4k.xlsx\")"
      ]
    },
    {
      "cell_type": "code",
      "source": [
        "cult=set()\n",
        "for i in range(len(data)):\n",
        "  if i!=15:\n",
        "    cult.add(data[\"category\"][i])\n",
        "cult"
      ],
      "metadata": {
        "colab": {
          "base_uri": "https://localhost:8080/"
        },
        "id": "O94HXnqSrCpv",
        "outputId": "a0de9f7c-47ba-41ea-aec1-9852d830c447"
      },
      "execution_count": 33,
      "outputs": [
        {
          "output_type": "execute_result",
          "data": {
            "text/plain": [
              "{'culture', 'economy', 'health', 'political', 'sport'}"
            ]
          },
          "metadata": {},
          "execution_count": 33
        }
      ]
    },
    {
      "cell_type": "code",
      "execution_count": 14,
      "metadata": {
        "id": "zhRxYLULdLpU",
        "colab": {
          "base_uri": "https://localhost:8080/"
        },
        "outputId": "20dfed1d-1aa2-4756-9a37-d402a75f578e"
      },
      "outputs": [
        {
          "output_type": "stream",
          "name": "stderr",
          "text": [
            "100%|██████████| 4022/4022 [00:29<00:00, 137.89it/s]\n"
          ]
        }
      ],
      "source": [
        "from copy import deepcopy\n",
        "data_tmp = []\n",
        "for i in tqdm(range(len(data))):\n",
        "    if i==15:\n",
        "      continue\n",
        "    tmp_doc = data\n",
        "    doc = dict()\n",
        "    # filter_doc: method for preprocessing a doc. \n",
        "    doc['content'] =tmp_doc['content'][i]\n",
        "    doc['vec'] = list(doc2vec.embed(word_tokenize(my_normalizer.normalize(tmp_doc['content'][i]))))\n",
        "    doc['category'] = tmp_doc['category'][i]\n",
        "    data_tmp.append(doc)\n"
      ]
    },
    {
      "cell_type": "code",
      "execution_count": 15,
      "metadata": {
        "id": "RgSbNxq7dLpU",
        "colab": {
          "base_uri": "https://localhost:8080/"
        },
        "outputId": "dcfa1a18-2527-44d2-c7b0-9d7c85cc22c6"
      },
      "outputs": [
        {
          "output_type": "stream",
          "name": "stdout",
          "text": [
            "(4021, [])\n"
          ]
        }
      ],
      "source": [
        "data_bulk = [\n",
        "    {\n",
        "        \"_index\" : index_name,\n",
        "        \"_id\" : i + 1,\n",
        "        \"_source\": data_tmp[i]\n",
        "    }\n",
        "    for i in range(len(data_tmp))\n",
        "]\n",
        "resp = helpers.bulk(\n",
        "  es,\n",
        "  data_bulk,\n",
        "  index = index_name\n",
        ")\n",
        "print(resp)"
      ]
    },
    {
      "cell_type": "markdown",
      "metadata": {
        "id": "ONbDIk_HUGMM"
      },
      "source": [
        "# گام سوم"
      ]
    },
    {
      "cell_type": "markdown",
      "metadata": {
        "id": "A9vKLaE4UNb3"
      },
      "source": [
        "در این بخش باید داده های تست را بارگذاری و پیش پردازش کنید و سپس برای هر متن بردار آن را بدست آورده و به روش  نزدیکترین همسایه جستجو را انجام داده و برچسب این سند را بدست آورید. "
      ]
    },
    {
      "cell_type": "code",
      "execution_count": 16,
      "metadata": {
        "id": "LttqgmRFdLpV"
      },
      "outputs": [],
      "source": [
        "test_dataset = pd.read_excel(\"/content/drive/MyDrive/IR01_3_46k.xlsx\")"
      ]
    },
    {
      "cell_type": "code",
      "source": [
        "test_dataset[\"content\"][0]"
      ],
      "metadata": {
        "colab": {
          "base_uri": "https://localhost:8080/",
          "height": 88
        },
        "id": "8uTqVP6lxsfk",
        "outputId": "b761309f-f623-42cb-b826-208be015226c"
      },
      "execution_count": 17,
      "outputs": [
        {
          "output_type": "execute_result",
          "data": {
            "text/plain": [
              "'به گزارش ایسنا، پس از واریز ۴٧۵ هزار یورو از اصل طلب ماریو بودیمیر، این باشگاه\\nباید ٣٢ هزار ۵٠٠ یورو دیگر را بابت سود دیرکرد به حساب این بازیکن واریز می\\u200cکرد.\\n\\nاین مبلغ امروز به حساب بودیمیر رسید تا عملا موضوع پرونده این بازیکن کروات هم\\nبسته و پنجره نقل\\u200cوانتقالاتی پرسپولیس باز شود.\\n\\nانتهای پیام\\n\\n'"
            ],
            "application/vnd.google.colaboratory.intrinsic+json": {
              "type": "string"
            }
          },
          "metadata": {},
          "execution_count": 17
        }
      ]
    },
    {
      "cell_type": "code",
      "source": [
        "index_convertor={0:'culture', 1:'economy', 2:'health', 3:'political', 4:'sport'}\n",
        "category_convertor={'culture':0, 'economy':1, 'health':2, 'political':3, 'sport':4}"
      ],
      "metadata": {
        "id": "7sbZUghJyq4t"
      },
      "execution_count": 18,
      "outputs": []
    },
    {
      "cell_type": "code",
      "source": [
        "import numpy as np\n",
        "def find_label(array):\n",
        "  ans=[0,0,0,0,0]\n",
        "  for ar in array:\n",
        "    ans[category_convertor[ar]]+=1\n",
        "  #print(ans)\n",
        "  return index_convertor[np.argmax(ans)]\n"
      ],
      "metadata": {
        "id": "AAT8k0jly9PD"
      },
      "execution_count": 19,
      "outputs": []
    },
    {
      "cell_type": "code",
      "source": [
        "res = []\n",
        "for i in tqdm(range(len(test_dataset))):\n",
        "    vec = doc2vec.embed(word_tokenize(my_normalizer.normalize(test_dataset['content'][i])))    \n",
        "    try:\n",
        "        resp = es.knn_search(index=index_name,knn={\n",
        "          #  TODO\n",
        "          \"field\":\"vec\",\n",
        "          \"query_vector\":vec,\n",
        "          \"k\":11,\n",
        "          \"num_candidates\":100\n",
        "          }\n",
        "          ,source=['content','category'],)\n",
        "        #print(resp[\"hits\"][\"hits\"])\n",
        "\n",
        "        cats=[]\n",
        "        for uuu in resp[\"hits\"][\"hits\"]:\n",
        "          cats.append(uuu[\"_source\"][\"category\"])\n",
        "        res.append(find_label(cats))\n",
        "\n",
        "      #  predict label for doc\n",
        "\n",
        "      # TODO\n",
        "    except:\n",
        "        # usualy happens when all the elements of \n",
        "        # the vector are zero.\n",
        "        res.append(\"None\")\n",
        "        pass\n",
        "len(res)"
      ],
      "metadata": {
        "colab": {
          "base_uri": "https://localhost:8080/"
        },
        "id": "tsfgAhf118Q6",
        "outputId": "d31b0535-d916-4e4a-840e-8c334761ba11"
      },
      "execution_count": 20,
      "outputs": [
        {
          "output_type": "stream",
          "name": "stderr",
          "text": [
            " 20%|██        | 9470/46769 [07:56<29:25, 21.13it/s]/usr/local/lib/python3.7/dist-packages/ipykernel_launcher.py:87: RuntimeWarning: invalid value encountered in true_divide\n",
            "100%|██████████| 46769/46769 [39:59<00:00, 19.49it/s]\n"
          ]
        },
        {
          "output_type": "execute_result",
          "data": {
            "text/plain": [
              "46769"
            ]
          },
          "metadata": {},
          "execution_count": 20
        }
      ]
    },
    {
      "cell_type": "code",
      "source": [
        "test_dataset[\"category\"]=res\n",
        "test_dataset.to_csv(\"/content/drive/MyDrive/answeranswer2.csv\",index=False)"
      ],
      "metadata": {
        "id": "LOKnXJSQ1h3C"
      },
      "execution_count": 23,
      "outputs": []
    },
    {
      "cell_type": "code",
      "source": [
        "len(test_dataset)"
      ],
      "metadata": {
        "colab": {
          "base_uri": "https://localhost:8080/"
        },
        "id": "FKQd_963AWsS",
        "outputId": "ebdcb6af-e16f-40e8-e519-a00324e0dff3"
      },
      "execution_count": 24,
      "outputs": [
        {
          "output_type": "execute_result",
          "data": {
            "text/plain": [
              "46769"
            ]
          },
          "metadata": {},
          "execution_count": 24
        }
      ]
    },
    {
      "cell_type": "code",
      "source": [
        "test_downloaded_csv=pd.read_csv(\"/content/drive/MyDrive/answeranswer.csv\")"
      ],
      "metadata": {
        "id": "A2Mg3Es9Cz_9"
      },
      "execution_count": 25,
      "outputs": []
    },
    {
      "cell_type": "code",
      "source": [
        "len(test_downloaded_csv)"
      ],
      "metadata": {
        "colab": {
          "base_uri": "https://localhost:8080/"
        },
        "id": "eK4ELHW3OBxR",
        "outputId": "bd647c1e-aec2-42c5-9ade-a13cfe0072d5"
      },
      "execution_count": 37,
      "outputs": [
        {
          "output_type": "execute_result",
          "data": {
            "text/plain": [
              "46769"
            ]
          },
          "metadata": {},
          "execution_count": 37
        }
      ]
    },
    {
      "cell_type": "markdown",
      "metadata": {
        "id": "7jsdJ0DtVvLP"
      },
      "source": [
        "# گام چهارم "
      ]
    },
    {
      "cell_type": "markdown",
      "metadata": {
        "id": "gMnEqgUBVUto"
      },
      "source": [
        "حال که برای هر متن برچسب آن را بدست آورده اید. متون هر دسته را به نحوی از سایر دسته ها مجزا کنید و مطابق موارد خواسته شده در گزارش جستجو را در دسته های مختلف انجام دهید. "
      ]
    },
    {
      "cell_type": "code",
      "source": [
        "index_final_0=\"culture\"\n",
        "index_final_1=\"economy\"\n",
        "index_final_2=\"health\"\n",
        "index_final_3=\"political\"\n",
        "index_final_4=\"sport\""
      ],
      "metadata": {
        "id": "aUNqWe5wEzXY"
      },
      "execution_count": 32,
      "outputs": []
    },
    {
      "cell_type": "code",
      "source": [
        "# Create index\n",
        "es.indices.create(index=index_final_0)\n",
        "es.indices.create(index=index_final_1)\n",
        "es.indices.create(index=index_final_2)\n",
        "es.indices.create(index=index_final_3)\n",
        "es.indices.create(index=index_final_4)"
      ],
      "metadata": {
        "colab": {
          "base_uri": "https://localhost:8080/"
        },
        "id": "PTwUqr9GJhFH",
        "outputId": "0d1bf1dd-9147-4a60-d821-53e9e2a3b9e4"
      },
      "execution_count": 33,
      "outputs": [
        {
          "output_type": "execute_result",
          "data": {
            "text/plain": [
              "ObjectApiResponse({'acknowledged': True, 'shards_acknowledged': True, 'index': 'sport'})"
            ]
          },
          "metadata": {},
          "execution_count": 33
        }
      ]
    },
    {
      "cell_type": "code",
      "source": [
        "def fill_index(index_name_name,caty):\n",
        "  data_tmp_tmp = []\n",
        "  for i in tqdm(range(len(test_downloaded_csv))):\n",
        "      tmp_doc = test_downloaded_csv\n",
        "      if tmp_doc[\"category\"][i]!=caty:\n",
        "        continue\n",
        "      doc = dict()\n",
        "      doc['content'] =tmp_doc['content'][i]\n",
        "      doc['url']=tmp_doc['url'][i]\n",
        "      data_tmp_tmp.append(doc)\n",
        "  data_bulk = [\n",
        "      {\n",
        "          \"_index\" : index_name_name,\n",
        "          \"_id\" : i + 1,\n",
        "          \"_source\": data_tmp_tmp[i]\n",
        "      }\n",
        "      for i in range(len(data_tmp_tmp))\n",
        "  ]\n",
        "  resp = helpers.bulk(\n",
        "    es,\n",
        "    data_bulk,\n",
        "    index = index_name_name\n",
        "  )\n",
        "  print(resp)"
      ],
      "metadata": {
        "id": "bmhaOWEpK8SM"
      },
      "execution_count": 46,
      "outputs": []
    },
    {
      "cell_type": "code",
      "source": [
        "fill_index(index_final_0,\"culture\")\n",
        "fill_index(index_final_1,\"economy\")\n",
        "fill_index(index_final_2,\"health\")\n",
        "fill_index(index_final_3,\"political\")\n",
        "fill_index(index_final_4,\"sport\")"
      ],
      "metadata": {
        "colab": {
          "base_uri": "https://localhost:8080/"
        },
        "id": "AeALv7EYKxkg",
        "outputId": "0845bc56-1ea0-41f0-d4d4-ff648cef56e6"
      },
      "execution_count": 47,
      "outputs": [
        {
          "output_type": "stream",
          "name": "stderr",
          "text": [
            "100%|██████████| 46769/46769 [00:00<00:00, 111849.99it/s]\n"
          ]
        },
        {
          "output_type": "stream",
          "name": "stdout",
          "text": [
            "(9422, [])\n"
          ]
        },
        {
          "output_type": "stream",
          "name": "stderr",
          "text": [
            "100%|██████████| 46769/46769 [00:00<00:00, 103770.61it/s]\n"
          ]
        },
        {
          "output_type": "stream",
          "name": "stdout",
          "text": [
            "(12963, [])\n"
          ]
        },
        {
          "output_type": "stream",
          "name": "stderr",
          "text": [
            "100%|██████████| 46769/46769 [00:00<00:00, 142058.04it/s]\n"
          ]
        },
        {
          "output_type": "stream",
          "name": "stdout",
          "text": [
            "(1916, [])\n"
          ]
        },
        {
          "output_type": "stream",
          "name": "stderr",
          "text": [
            "100%|██████████| 46769/46769 [00:00<00:00, 110082.08it/s]\n"
          ]
        },
        {
          "output_type": "stream",
          "name": "stdout",
          "text": [
            "(11453, [])\n"
          ]
        },
        {
          "output_type": "stream",
          "name": "stderr",
          "text": [
            "100%|██████████| 46769/46769 [00:00<00:00, 108703.74it/s]\n"
          ]
        },
        {
          "output_type": "stream",
          "name": "stdout",
          "text": [
            "(11014, [])\n"
          ]
        }
      ]
    },
    {
      "cell_type": "code",
      "source": [
        "def get_query(text):\n",
        "    body ={\n",
        "    \"query\":{  \n",
        "        \"match\" : {\n",
        "            \"content\" : text\n",
        "\n",
        "            }\n",
        "        }\n",
        "    }\n",
        "    \n",
        "    return body"
      ],
      "metadata": {
        "id": "zLaTOSOtNH6Q"
      },
      "execution_count": 41,
      "outputs": []
    },
    {
      "cell_type": "code",
      "source": [
        "def show_results_for(text,caty):\n",
        "  choosen_index=\"\"\n",
        "  if caty==\"culture\":\n",
        "    choosen_index=index_final_0\n",
        "  elif caty==\"economy\":\n",
        "    choosen_index=index_final_1\n",
        "  elif caty==\"health\":\n",
        "    choosen_index=index_final_2\n",
        "  elif caty==\"political\":\n",
        "    choosen_index=index_final_3\n",
        "  elif caty==\"sport\":\n",
        "    choosen_index=index_final_4\n",
        "  rslt=es.search(index=choosen_index, body=get_query(text))\n",
        "  i=0\n",
        "  for t in rslt[\"hits\"][\"hits\"]:\n",
        "    if i>=5:\n",
        "      break\n",
        "    print(t[\"_source\"][\"url\"])\n",
        "    i+=1\n"
      ],
      "metadata": {
        "id": "_HKSTZ19TJG3"
      },
      "execution_count": 65,
      "outputs": []
    },
    {
      "cell_type": "code",
      "source": [
        "show_results_for(\"رونالدو مسی توپ طلا\",\"sport\")"
      ],
      "metadata": {
        "colab": {
          "base_uri": "https://localhost:8080/"
        },
        "id": "EHHpbgZjQwK8",
        "outputId": "aacb6310-a93e-464c-f1b5-763e013116c5"
      },
      "execution_count": 72,
      "outputs": [
        {
          "output_type": "stream",
          "name": "stdout",
          "text": [
            "https://www.farsnews.ir/news/13991117000185/مقایسه-آمار-نیمار-با-مسی-و-رونالدو-عکس\n",
            "https://www.farsnews.ir/news/14000105000155/یک-قدم-تا-تاریخ-سازی-مودریچ-برای-فوتبال-کرواسی\n",
            "https://www.farsnews.ir/news/13991204000939/بازیکنانی-با-بیشترین-جام-در-قرن-2-شش-بازیکن-بالاتر-از-رونالدو\n",
            "https://www.farsnews.ir/news/14000123000541/اقدام-جنجالی-رونالدو-ابرستاره-پرتغالی-در-راه-جدایی-از-یوونتوس\n",
            "https://www.farsnews.ir/news/13991222000112/احتمال-بازگشت-رونالدو-به-رئال-مادرید\n"
          ]
        },
        {
          "output_type": "stream",
          "name": "stderr",
          "text": [
            "/usr/local/lib/python3.7/dist-packages/ipykernel_launcher.py:13: DeprecationWarning: The 'body' parameter is deprecated and will be removed in a future version. Instead use individual parameters.\n",
            "  del sys.path[0]\n"
          ]
        }
      ]
    },
    {
      "cell_type": "code",
      "source": [
        "show_results_for(\"عربستان آمریکا\",\"economy\")"
      ],
      "metadata": {
        "colab": {
          "base_uri": "https://localhost:8080/"
        },
        "id": "5P5Stl6XVh_A",
        "outputId": "0e840537-f26a-423c-c314-8ae4d22ecbe7"
      },
      "execution_count": 79,
      "outputs": [
        {
          "output_type": "stream",
          "name": "stdout",
          "text": [
            "https://www.farsnews.ir/news/13990614000393/کاهش-صادرات-نفت-عربستان-به-آمریکا-به-کمترین-میزان-در-سه-دهه-گذشته\n",
            "https://www.farsnews.ir/news/13991021000701/صادرات-نفت-عربستان-به-آمریکا-برای-نخستین-بار-در-35-سال-گذشته-صفر-شد\n",
            "https://www.farsnews.ir/news/13990330000392/صادرات-نفت-عربستان-به-آمریکا-به-کمترین-میزان-در-35-سال-گذشته-می‌رسد\n",
            "https://www.farsnews.ir/news/13990915000599/صادرات-نفت-عربستان-به-آمریکا-به-کمترین-رقم-در-35-سال-گذشته-رسید\n",
            "https://www.farsnews.ir/news/14000120000166/گرفتاری-دهلی-نو-در-تبعیت-از-تحریم‌های-نفتی-ایران-پکن-برنده-ادامه-خرید\n"
          ]
        },
        {
          "output_type": "stream",
          "name": "stderr",
          "text": [
            "/usr/local/lib/python3.7/dist-packages/ipykernel_launcher.py:13: DeprecationWarning: The 'body' parameter is deprecated and will be removed in a future version. Instead use individual parameters.\n",
            "  del sys.path[0]\n"
          ]
        }
      ]
    },
    {
      "cell_type": "code",
      "source": [
        "show_results_for(\"کرونا واکسن قرنطینه\",\"health\")"
      ],
      "metadata": {
        "colab": {
          "base_uri": "https://localhost:8080/"
        },
        "id": "wIiB2E7WQykf",
        "outputId": "e53c9a67-2d12-4b2f-a4fa-ad82e0015792"
      },
      "execution_count": 80,
      "outputs": [
        {
          "output_type": "stream",
          "name": "stdout",
          "text": [
            "https://www.farsnews.ir/news/14000111000564/روحانی-اقدامات-فوری-برای-جلوگیری-از-موج-جدید-بیماری-انجام-شود\n",
            "https://www.farsnews.ir/news/13991111001085/سفرهای-نوروزی-در-قالب-تورها-انجام-می‌گیرد-وضعیت-دست-فروش‌ها-بررسی-شد\n",
            "https://www.farsnews.ir/news/14000131000237/ربیعی-برجام-باعث-تقویت-اعتماد-به-نفس-ملی-شد-بخشی-از-پولی-که-در-عراق\n",
            "https://www.isna.ir/news/99122519197/واکسیناسیون-سالمندان-علیه-کرونا-در-کردستان-آغاز-شد\n",
            "https://www.isna.ir/news/99121309975/اقدامات-فوری-برای-خرید-واکسن-کرونا-صورت-گیرد\n"
          ]
        },
        {
          "output_type": "stream",
          "name": "stderr",
          "text": [
            "/usr/local/lib/python3.7/dist-packages/ipykernel_launcher.py:13: DeprecationWarning: The 'body' parameter is deprecated and will be removed in a future version. Instead use individual parameters.\n",
            "  del sys.path[0]\n"
          ]
        }
      ]
    },
    {
      "cell_type": "code",
      "source": [
        ""
      ],
      "metadata": {
        "id": "9sgx9OnGVdgr"
      },
      "execution_count": null,
      "outputs": []
    }
  ],
  "metadata": {
    "colab": {
      "collapsed_sections": [],
      "name": "KNN_Final.ipynb",
      "provenance": []
    },
    "kernelspec": {
      "display_name": "Python 3 (ipykernel)",
      "language": "python",
      "name": "python3"
    },
    "language_info": {
      "codemirror_mode": {
        "name": "ipython",
        "version": 3
      },
      "file_extension": ".py",
      "mimetype": "text/x-python",
      "name": "python",
      "nbconvert_exporter": "python",
      "pygments_lexer": "ipython3",
      "version": "3.8.5"
    }
  },
  "nbformat": 4,
  "nbformat_minor": 0
}