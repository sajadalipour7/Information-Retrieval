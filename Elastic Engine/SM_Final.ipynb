{
  "cells": [
    {
      "cell_type": "markdown",
      "metadata": {
        "tags": [],
        "id": "y5vthoJMuBpn"
      },
      "source": [
        "# Similarity Modulation"
      ]
    },
    {
      "cell_type": "markdown",
      "source": [
        "Here we are going to implement another similarity other that the BM25 which is the default in Elastic. We want you to implement a tf-idf similarity and test it with same queries in phase2 so that you can get a sense of how well your Elastic tf-idf works. Follow the instructions and fill where ever it says # TODO.  <br>\n",
        "You can contact me in case of any problems via Telegram: @mahvash_sp"
      ],
      "metadata": {
        "id": "-_FPiNrFMYmY"
      }
    },
    {
      "cell_type": "code",
      "source": [
        "from google.colab import drive\n",
        "drive.mount('/content/drive')"
      ],
      "metadata": {
        "colab": {
          "base_uri": "https://localhost:8080/"
        },
        "id": "7HRX8eomSXWq",
        "outputId": "47611afa-2a70-4dd2-ca6e-97c04a4e19e2"
      },
      "execution_count": 1,
      "outputs": [
        {
          "output_type": "stream",
          "name": "stdout",
          "text": [
            "Mounted at /content/drive\n"
          ]
        }
      ]
    },
    {
      "cell_type": "code",
      "source": [
        "!pip install elasticsearch"
      ],
      "metadata": {
        "colab": {
          "base_uri": "https://localhost:8080/"
        },
        "id": "LlC8yW87SdR-",
        "outputId": "23f1910b-94a7-4e35-90a6-e39294fcae2b"
      },
      "execution_count": 2,
      "outputs": [
        {
          "output_type": "stream",
          "name": "stdout",
          "text": [
            "Looking in indexes: https://pypi.org/simple, https://us-python.pkg.dev/colab-wheels/public/simple/\n",
            "Collecting elasticsearch\n",
            "  Downloading elasticsearch-8.3.1-py3-none-any.whl (382 kB)\n",
            "\u001b[K     |████████████████████████████████| 382 kB 24.8 MB/s \n",
            "\u001b[?25hCollecting elastic-transport<9,>=8\n",
            "  Downloading elastic_transport-8.1.2-py3-none-any.whl (59 kB)\n",
            "\u001b[K     |████████████████████████████████| 59 kB 5.9 MB/s \n",
            "\u001b[?25hCollecting urllib3<2,>=1.26.2\n",
            "  Downloading urllib3-1.26.9-py2.py3-none-any.whl (138 kB)\n",
            "\u001b[K     |████████████████████████████████| 138 kB 43.3 MB/s \n",
            "\u001b[?25hRequirement already satisfied: certifi in /usr/local/lib/python3.7/dist-packages (from elastic-transport<9,>=8->elasticsearch) (2022.6.15)\n",
            "Installing collected packages: urllib3, elastic-transport, elasticsearch\n",
            "  Attempting uninstall: urllib3\n",
            "    Found existing installation: urllib3 1.24.3\n",
            "    Uninstalling urllib3-1.24.3:\n",
            "      Successfully uninstalled urllib3-1.24.3\n",
            "\u001b[31mERROR: pip's dependency resolver does not currently take into account all the packages that are installed. This behaviour is the source of the following dependency conflicts.\n",
            "requests 2.23.0 requires urllib3!=1.25.0,!=1.25.1,<1.26,>=1.21.1, but you have urllib3 1.26.9 which is incompatible.\n",
            "datascience 0.10.6 requires folium==0.2.1, but you have folium 0.8.3 which is incompatible.\u001b[0m\n",
            "Successfully installed elastic-transport-8.1.2 elasticsearch-8.3.1 urllib3-1.26.9\n"
          ]
        }
      ]
    },
    {
      "cell_type": "code",
      "execution_count": 3,
      "metadata": {
        "id": "EbwCj28juBps",
        "colab": {
          "base_uri": "https://localhost:8080/"
        },
        "outputId": "f3ed9ae1-cd68-46c2-bd4f-19e847a5cf8d"
      },
      "outputs": [
        {
          "output_type": "stream",
          "name": "stderr",
          "text": [
            "/usr/local/lib/python3.7/dist-packages/requests/__init__.py:91: RequestsDependencyWarning: urllib3 (1.26.9) or chardet (3.0.4) doesn't match a supported version!\n",
            "  RequestsDependencyWarning)\n"
          ]
        }
      ],
      "source": [
        "from elasticsearch import Elasticsearch, helpers\n",
        "import json\n",
        "import warnings"
      ]
    },
    {
      "cell_type": "code",
      "execution_count": 4,
      "metadata": {
        "id": "BrwsaVsj5ubv"
      },
      "outputs": [],
      "source": [
        "# import data in json format\n",
        "file_name = '/content/drive/MyDrive/IR_data_news_12k.json'\n",
        "\n",
        "with open(file_name) as f:\n",
        "    data = json.load(f)"
      ]
    },
    {
      "cell_type": "code",
      "execution_count": 5,
      "metadata": {
        "id": "y4xg-Rhk5ub0"
      },
      "outputs": [],
      "source": [
        "# Filter warnings\n",
        "warnings.filterwarnings('ignore')"
      ]
    },
    {
      "cell_type": "code",
      "execution_count": 6,
      "metadata": {
        "id": "XDs6hQbv5ub1",
        "outputId": "2442f3a5-1727-41b6-d50c-773e240bc5a9",
        "colab": {
          "base_uri": "https://localhost:8080/"
        }
      },
      "outputs": [
        {
          "output_type": "execute_result",
          "data": {
            "text/plain": [
              "dict_keys(['title', 'content', 'tags', 'date', 'url', 'category'])"
            ]
          },
          "metadata": {},
          "execution_count": 6
        }
      ],
      "source": [
        "# data keys\n",
        "data['0'].keys()"
      ]
    },
    {
      "cell_type": "markdown",
      "metadata": {
        "id": "tJ3Kf58zuBpv"
      },
      "source": [
        "After starting your Elasticsearch on your pc (localhost:9200 is the default) we have to connect to it via the following piece of code\n"
      ]
    },
    {
      "cell_type": "code",
      "execution_count": 7,
      "metadata": {
        "id": "_yyuk50M5ub2"
      },
      "outputs": [],
      "source": [
        "# Here we try to connect to Elastic\n",
        "es = Elasticsearch(\n",
        "    cloud_id=\"IR:dXMtY2VudHJhbDEuZ2NwLmNsb3VkLmVzLmlvOjQ0MyQ2NTdiMmI1MzE3YTc0OWNjYWQ0YTU1ZDM4ZGUyOGI0NiQzYTU2YWFlYzQ1NzI0YjkxOTZlN2YwOWExNDU3ODk2MQ==\",\n",
        "    basic_auth=(\"elastic\", \"TOseKiFNqilMmEBgf1i0Dv92\")\n",
        "    )"
      ]
    },
    {
      "cell_type": "markdown",
      "metadata": {
        "id": "fCY5fnsd5ub5",
        "tags": []
      },
      "source": [
        "## Create tf-idf Index"
      ]
    },
    {
      "cell_type": "markdown",
      "metadata": {
        "tags": [],
        "id": "8mA8caevuBpx"
      },
      "source": [
        "### Create Index"
      ]
    },
    {
      "cell_type": "code",
      "execution_count": 8,
      "metadata": {
        "id": "KGcQKuO6uBpx"
      },
      "outputs": [],
      "source": [
        "# Name of index \n",
        "sm_index_name = 'tfidf_index'"
      ]
    },
    {
      "cell_type": "code",
      "execution_count": 9,
      "metadata": {
        "id": "jAO61WFi5ub6",
        "colab": {
          "base_uri": "https://localhost:8080/"
        },
        "outputId": "27cda5a5-2b63-47c7-e8e8-c54aaa7b7af6"
      },
      "outputs": [
        {
          "output_type": "execute_result",
          "data": {
            "text/plain": [
              "ObjectApiResponse({'acknowledged': True, 'shards_acknowledged': True, 'index': 'tfidf_index'})"
            ]
          },
          "metadata": {},
          "execution_count": 9
        }
      ],
      "source": [
        "# Delete index if one does exist\n",
        "if es.indices.exists(index=sm_index_name):\n",
        "    es.indices.delete(index=sm_index_name)\n",
        "\n",
        "# Create index    \n",
        "es.indices.create(index=sm_index_name)"
      ]
    },
    {
      "cell_type": "markdown",
      "metadata": {
        "tags": [],
        "id": "nMipnzi9uBpy"
      },
      "source": [
        "### Add documents"
      ]
    },
    {
      "cell_type": "markdown",
      "metadata": {
        "id": "ELD27cX9uBpz"
      },
      "source": [
        "In here we used the bulk doc formatter which was introduced in the first subsection of phase 3. <br>\n",
        "You can find out more in [Here](https://stackoverflow.com/questions/61580963/insert-multiple-documents-in-elasticsearch-bulk-doc-formatter)."
      ]
    },
    {
      "cell_type": "code",
      "execution_count": 10,
      "metadata": {
        "id": "xhA0gQXe5ub7"
      },
      "outputs": [],
      "source": [
        "\n",
        "from elasticsearch.helpers import bulk\n",
        "\n",
        "def bulk_sync():\n",
        "    actions = [\n",
        "        {\n",
        "            '_index': sm_index_name,\n",
        "            '_id':doc_id,\n",
        "            '_source': doc\n",
        "        } for doc_id,doc in data.items()\n",
        "    ]\n",
        "    bulk(es, actions)\n",
        "    \n",
        "    \n"
      ]
    },
    {
      "cell_type": "code",
      "execution_count": 11,
      "metadata": {
        "id": "2ak5DZ1TuBpz"
      },
      "outputs": [],
      "source": [
        "# run the function to add documents\n",
        "bulk_sync()"
      ]
    },
    {
      "cell_type": "code",
      "execution_count": 12,
      "metadata": {
        "id": "KxmyyKf9uBp0",
        "outputId": "5536dfe2-82fa-4751-ff91-627fb1994a8f",
        "colab": {
          "base_uri": "https://localhost:8080/"
        }
      },
      "outputs": [
        {
          "output_type": "execute_result",
          "data": {
            "text/plain": [
              "ObjectApiResponse({'count': 12202, '_shards': {'total': 1, 'successful': 1, 'skipped': 0, 'failed': 0}})"
            ]
          },
          "metadata": {},
          "execution_count": 12
        }
      ],
      "source": [
        "# Check index\n",
        "es.count(index = sm_index_name)"
      ]
    },
    {
      "cell_type": "markdown",
      "metadata": {
        "tags": [],
        "id": "csyy2vtEuBp0"
      },
      "source": [
        "### Configuring a similarity"
      ]
    },
    {
      "cell_type": "markdown",
      "metadata": {
        "id": "a2wum2BOuBp0"
      },
      "source": [
        "In order to configure a new similarity function you have to change the similarity from the settings api of the index. This can be done via the function 'put_settings' in python. What we do is to change the 'default' similarity function in Elastic so that it uses the replaced similarity instead. Type of this similarity is set to 'scripted' because tf-idf is not among the pre-defined similarity functions in Elastic anymore. As this similarity is a scripted type the source code of it must be written **by you** and passed to it.<br>\n",
        "> In order for the changes to be applied, first we close the index and change the settings and then reopen it<br>\n",
        "\n",
        "Write the tf-idf code in a string and pass it as a value to the \"source\" key. <br>\n",
        "You can find the variables needed in your code in [Here](https://www.elastic.co/guide/en/elasticsearch/painless/current/painless-similarity-context.html)."
      ]
    },
    {
      "cell_type": "code",
      "execution_count": 25,
      "metadata": {
        "id": "YzQJGr24uBp1"
      },
      "outputs": [],
      "source": [
        "# TODO : uncomment the code bellow, write the tf-idf code in here\n",
        "source_code = \"double tf = Math.log(1+doc.freq);double idf=Math.log((field.docCount+1.0)/(term.docFreq+1.0));return tf*idf;\""
      ]
    },
    {
      "cell_type": "code",
      "execution_count": 26,
      "metadata": {
        "id": "Wjdp3J3T5ub7",
        "outputId": "747b239f-8ae7-44d6-a038-4fd5c44e4874",
        "colab": {
          "base_uri": "https://localhost:8080/"
        }
      },
      "outputs": [
        {
          "output_type": "execute_result",
          "data": {
            "text/plain": [
              "ObjectApiResponse({'acknowledged': True, 'shards_acknowledged': True})"
            ]
          },
          "metadata": {},
          "execution_count": 26
        }
      ],
      "source": [
        "# closing the index\n",
        "es.indices.close(index=sm_index_name)\n",
        "\n",
        "# applying the settings\n",
        "es.indices.put_settings(index=sm_index_name, \n",
        "                            settings={\n",
        "                                \"similarity\": {\n",
        "                                      \"default\": {\n",
        "                                        \"type\": \"scripted\",\n",
        "                                        \"script\": {\n",
        "                                          # TODO : uncomment the code bellow and pass the suitable parameter\n",
        "                                            \"source\":source_code \n",
        "                                        }\n",
        "                                      }\n",
        "                                }\n",
        "                            }\n",
        "                       )\n",
        "\n",
        "# reopening the index\n",
        "es.indices.open(index=sm_index_name)"
      ]
    },
    {
      "cell_type": "markdown",
      "metadata": {
        "tags": [],
        "id": "ghBUm8V8uBp1"
      },
      "source": [
        "### Query"
      ]
    },
    {
      "cell_type": "markdown",
      "source": [
        "In this section you have to test your index with same queries you tested phase2. The goal here is to observe how different or simillar your tf-idf Elastic implementation works."
      ],
      "metadata": {
        "id": "XfMeKtYiN-fu"
      }
    },
    {
      "cell_type": "code",
      "execution_count": 27,
      "metadata": {
        "id": "YWJ5w3unuBp2"
      },
      "outputs": [],
      "source": [
        "# A function that creates appropriate body for our match content type query\n",
        "def get_query(text):\n",
        "    body ={\n",
        "    \"query\":{  \n",
        "        \"match\" : {\n",
        "            \"content\" : text\n",
        "\n",
        "            }\n",
        "        }\n",
        "    }\n",
        "    \n",
        "    return body"
      ]
    },
    {
      "cell_type": "code",
      "execution_count": 31,
      "metadata": {
        "id": "7UJKTdWuuBp2"
      },
      "outputs": [],
      "source": [
        "queries = [\n",
        "    #TODO : add your queries in string format to this list\n",
        "    \"توپ طلای رونالدو\"\n",
        "]"
      ]
    },
    {
      "cell_type": "code",
      "execution_count": 32,
      "metadata": {
        "id": "d2jhW3twuBp2"
      },
      "outputs": [],
      "source": [
        "all_res_tfidf = []\n",
        "\n",
        "\n",
        "for q in queries:\n",
        "    res_tfidf = es.search(index=sm_index_name, body=get_query(q), explain=True)\n",
        "    all_res_tfidf.append(dict(res_tfidf))"
      ]
    },
    {
      "cell_type": "code",
      "execution_count": 33,
      "metadata": {
        "id": "gesmaSYHuBp3",
        "colab": {
          "base_uri": "https://localhost:8080/"
        },
        "outputId": "a191082b-c2e2-4c94-ca51-c44f7a2c23fe"
      },
      "outputs": [
        {
          "output_type": "stream",
          "name": "stdout",
          "text": [
            "توپ طلای رونالدو\n",
            "https://www.farsnews.ir/news/14001128000368/رویای-همبازی-شدن-رونالدو-با-مسی-امکان-پذیر-نیست\n",
            "https://www.farsnews.ir/news/14001005000044/زنگ-خطر-برای-مسی-و-رونالدو-به-صدا-درآمد-عکس\n",
            "https://www.farsnews.ir/news/14001001000174/امباپه-مترجم-مکالمه-مسی-و-لواندوفسکی-شد\n",
            "https://www.farsnews.ir/news/14001010000262/واکنش-مندز-به-شایعه-جدایی-رونالدو-از-منچستر\n",
            "https://www.farsnews.ir/news/14001016000102/مسی-در-انتخابات-آمریکا-رونالدو-را-کنار-زد-عکس\n",
            "https://www.farsnews.ir/news/14001130000713/مجسمه-رونالدو-در-برنابئو\n",
            "https://www.farsnews.ir/news/14001118000663/انتخاب-گزینه‌ای-جوان-و-درعین-حال-باتجربه-مومنی‌مقدم-چگونه-سرمربی-تیم\n",
            "https://www.farsnews.ir/news/14001217000846/افشاگری-رسانه-ایتالیایی-از-رونالدو-کریستیانو-در-یوونتوس-هم-بی‌مسئولیت\n",
            "https://www.farsnews.ir/news/14001005000045/مسی-بالاتر-از-رونالدو-ایستاد-عکس\n",
            "https://www.farsnews.ir/news/14001116000335/آمار-خیره‌کننده-رونالدو-به-بهانه-تولد-3-سالگی--مرور-زیباترین-گل‌های\n",
            "----------------------------\n"
          ]
        }
      ],
      "source": [
        "for res, q in zip(all_res_tfidf, queries):\n",
        "    print(q)\n",
        "    for doc in res['hits']['hits']:\n",
        "        print(doc['_source']['url'])\n",
        "    print(\"----------------------------\")"
      ]
    },
    {
      "cell_type": "code",
      "execution_count": null,
      "metadata": {
        "id": "d8pbrwnquBp3"
      },
      "outputs": [],
      "source": [
        ""
      ]
    },
    {
      "cell_type": "code",
      "execution_count": null,
      "metadata": {
        "id": "Y098-SQQuBp3"
      },
      "outputs": [],
      "source": [
        ""
      ]
    }
  ],
  "metadata": {
    "colab": {
      "name": "SM-Final.ipynb",
      "provenance": [],
      "collapsed_sections": []
    },
    "kernelspec": {
      "display_name": "Python 3 (ipykernel)",
      "language": "python",
      "name": "python3"
    },
    "language_info": {
      "codemirror_mode": {
        "name": "ipython",
        "version": 3
      },
      "file_extension": ".py",
      "mimetype": "text/x-python",
      "name": "python",
      "nbconvert_exporter": "python",
      "pygments_lexer": "ipython3",
      "version": "3.8.10"
    }
  },
  "nbformat": 4,
  "nbformat_minor": 0
}